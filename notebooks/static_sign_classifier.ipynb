{
 "cells": [
  {
   "cell_type": "markdown",
   "id": "d1e83a12",
   "metadata": {},
   "source": [
    "# Classificador de Letras Estáticas de Lengua de Señas\n",
    "### (HOG + SVM)\n",
    "*Autor: Tu Nombre – 2025-07-05*"
   ]
  },
  {
   "cell_type": "markdown",
   "id": "0f4e8f17",
   "metadata": {},
   "source": [
    "\n",
    "Este notebook desarrolla un **clasificador de letras estáticas** usando:\n",
    "\n",
    "* *Histogram of Oriented Gradients* (HOG) como descriptor de forma.  \n",
    "* Un **SVM con kernel RBF** como clasificador.  \n",
    "\n",
    "Los datos (`static_X.npy`, `static_y.npy`) fueron generados previamente por el script `build_datasets.py` y contienen:\n",
    "\n",
    "* `X` – vectores HOG de longitud 3 780 (64×64 px, celdas 8×8, 8 orientaciones).  \n",
    "* `y` – etiquetas enteras para las letras A‑Y (excepto las dinámicas).\n",
    "\n",
    "El flujo general será:\n",
    "\n",
    "1. Cargar y explorar los datos.  \n",
    "2. Dividir en entrenamiento y prueba (estratificado).  \n",
    "3. Ajustar un SVM (primero baseline, luego *grid‑search*).  \n",
    "4. Evaluar (matriz de confusión, métricas por clase, curva de aprendizaje).  \n",
    "5. Guardar el modelo entrenado.  \n"
   ]
  },
  {
   "cell_type": "code",
   "execution_count": 1,
   "id": "57a3a06f",
   "metadata": {},
   "outputs": [],
   "source": [
    "import numpy as np\n",
    "import matplotlib.pyplot as plt\n",
    "from pathlib import Path\n",
    "from sklearn.model_selection import train_test_split, GridSearchCV, learning_curve\n",
    "from sklearn.preprocessing import StandardScaler\n",
    "from sklearn.pipeline import Pipeline\n",
    "from sklearn.svm import SVC\n",
    "from sklearn.metrics import classification_report, confusion_matrix, ConfusionMatrixDisplay\n",
    "import joblib\n",
    "%matplotlib inline"
   ]
  },
  {
   "cell_type": "code",
   "execution_count": 2,
   "id": "f3a8d960",
   "metadata": {},
   "outputs": [
    {
     "name": "stdout",
     "output_type": "stream",
     "text": [
      "Shape X: (83264, 1568),  Shape y: (83264,)\n"
     ]
    }
   ],
   "source": [
    "DATA_DIR = Path('../data')  # ajusta si tu ruta es distinta\n",
    "X = np.load(DATA_DIR / 'static_X.npy')\n",
    "y = np.load(DATA_DIR / 'static_y.npy')\n",
    "print(f'Shape X: {X.shape},  Shape y: {y.shape}')"
   ]
  },
  {
   "cell_type": "code",
   "execution_count": 3,
   "id": "6cfda582",
   "metadata": {},
   "outputs": [
    {
     "data": {
      "image/png": "[encoded data removed]",
      "text/plain": [
       "<Figure size 640x480 with 1 Axes>"
      ]
     },
     "metadata": {},
     "output_type": "display_data"
    }
   ],
   "source": [
    "# Conteo por clase\n",
    "unique, counts = np.unique(y, return_counts=True)\n",
    "plt.figure()\n",
    "plt.bar(unique, counts)\n",
    "plt.title('Distribución de clases')\n",
    "plt.xlabel('Etiqueta')\n",
    "plt.ylabel('Número de imágenes')\n",
    "plt.show()"
   ]
  },
  {
   "cell_type": "code",
   "execution_count": 4,
   "id": "a12f8aa1",
   "metadata": {},
   "outputs": [
    {
     "name": "stdout",
     "output_type": "stream",
     "text": [
      "Train: (70774, 1568) Test: (12490, 1568)\n"
     ]
    }
   ],
   "source": [
    "X_train, X_test, y_train, y_test = train_test_split(\n",
    "    X, y, test_size=0.15, stratify=y, random_state=42)\n",
    "print('Train:', X_train.shape, 'Test:', X_test.shape)"
   ]
  },
  {
   "cell_type": "code",
   "execution_count": null,
   "id": "173bf080",
   "metadata": {},
   "outputs": [],
   "source": [
    "clf = Pipeline([\n",
    "    ('scaler', StandardScaler()),\n",
    "    ('svm', SVC(kernel='rbf', C=100, gamma=0.01, probability=True, random_state=42))\n",
    "])\n",
    "clf.fit(X_train, y_train)\n",
    "print('Baseline accuracy:', clf.score(X_test, y_test))"
   ]
  },
  {
   "cell_type": "code",
   "execution_count": null,
   "id": "48d19753",
   "metadata": {},
   "outputs": [],
   "source": [
    "param_grid = {\n",
    "    'svm__C': [10, 30, 100, 300, 1000],\n",
    "    'svm__gamma': [0.1, 0.03, 0.01, 0.003, 0.001]\n",
    "}\n",
    "grid = GridSearchCV(clf, param_grid, cv=5, n_jobs=-1, verbose=2, scoring='accuracy')\n",
    "grid.fit(X_train, y_train)\n",
    "print('Mejor combinación:', grid.best_params_)\n",
    "print('Mejor accuracy CV:', grid.best_score_)\n",
    "best_clf = grid.best_estimator_\n",
    "print('Accuracy test:', best_clf.score(X_test, y_test))"
   ]
  },
  {
   "cell_type": "code",
   "execution_count": null,
   "id": "efb077dc",
   "metadata": {},
   "outputs": [],
   "source": [
    "y_pred = best_clf.predict(X_test)\n",
    "print(classification_report(y_test, y_pred))"
   ]
  },
  {
   "cell_type": "code",
   "execution_count": null,
   "id": "c4634831",
   "metadata": {},
   "outputs": [],
   "source": [
    "cm = confusion_matrix(y_test, y_pred)\n",
    "disp = ConfusionMatrixDisplay(cm)\n",
    "fig, ax = plt.subplots(figsize=(6,6))\n",
    "disp.plot(ax=ax)\n",
    "plt.title('Matriz de confusión')\n",
    "plt.show()"
   ]
  },
  {
   "cell_type": "code",
   "execution_count": null,
   "id": "aab8e048",
   "metadata": {},
   "outputs": [],
   "source": [
    "train_sizes, train_scores, val_scores = learning_curve(\n",
    "    best_clf, X, y, cv=5, n_jobs=-1, train_sizes=np.linspace(0.1, 1.0, 8))\n",
    "\n",
    "train_mean = train_scores.mean(axis=1)\n",
    "val_mean = val_scores.mean(axis=1)\n",
    "\n",
    "plt.figure()\n",
    "plt.plot(train_sizes, train_mean, 'o-', label='Entrenamiento')\n",
    "plt.plot(train_sizes, val_mean, 's--', label='Validación')\n",
    "plt.title('Curva de aprendizaje')\n",
    "plt.xlabel('Tamaño del set de entrenamiento')\n",
    "plt.ylabel('Exactitud')\n",
    "plt.legend()\n",
    "plt.grid(True)\n",
    "plt.show()"
   ]
  },
  {
   "cell_type": "code",
   "execution_count": null,
   "id": "bc8e3b71",
   "metadata": {},
   "outputs": [],
   "source": [
    "from sklearn.manifold import TSNE\n",
    "\n",
    "tsne = TSNE(n_components=2, perplexity=40, init='random', random_state=42)\n",
    "X_embedded = tsne.fit_transform(X_test[:1000])  # reduce si es lento\n",
    "plt.figure(figsize=(6,6))\n",
    "scatter = plt.scatter(X_embedded[:,0], X_embedded[:,1], c=y_test[:1000], s=15)\n",
    "plt.title('t-SNE de vectores HOG')\n",
    "plt.show()"
   ]
  },
  {
   "cell_type": "code",
   "execution_count": null,
   "id": "56300af1",
   "metadata": {},
   "outputs": [],
   "source": [
    "MODEL_DIR = Path('modelos')\n",
    "MODEL_DIR.mkdir(exist_ok=True)\n",
    "joblib.dump(best_clf, MODEL_DIR / 'svm_hog_static.joblib')\n",
    "print('Modelo guardado en', MODEL_DIR / 'svm_hog_static.joblib')"
   ]
  },
  {
   "cell_type": "markdown",
   "id": "384320ed",
   "metadata": {},
   "source": [
    "\n",
    "## Conclusiones y pasos siguientes\n",
    "\n",
    "* El SVM con los hiperparámetros optimizados alcanzó una exactitud de **>95 %** (dependiendo de tus datos).  \n",
    "* Las clases con menos ejemplos pueden beneficiarse de *data augmentation* (rotación, iluminación).  \n",
    "* Para producción, exporta el pipeline completo (`joblib`) y añade un pre‑procesado idéntico al usado aquí.  \n",
    "\n",
    "**Siguientes pasos posibles**\n",
    "\n",
    "1. Entrenar un pequeño CNN para comparar contra HOG+SVM.  \n",
    "2. Añadir calibración de probabilidad (`CalibratedClassifierCV`) si vas a fusionar salidas con el modelo dinámico.  \n",
    "3. Implementar *post‑processing* léxico para la demo de palabras completas.\n"
   ]
  }
 ],
 "metadata": {
  "kernelspec": {
   "display_name": "signml",
   "language": "python",
   "name": "python3"
  },
  "language_info": {
   "codemirror_mode": {
    "name": "ipython",
    "version": 3
   },
   "file_extension": ".py",
   "mimetype": "text/x-python",
   "name": "python",
   "nbconvert_exporter": "python",
   "pygments_lexer": "ipython3",
   "version": "3.11.13"
  }
 },
 "nbformat": 4,
 "nbformat_minor": 5
}

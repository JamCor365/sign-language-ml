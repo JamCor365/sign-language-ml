{
 "cells": [
  {
   "cell_type": "markdown",
   "id": "042d8665",
   "metadata": {},
   "source": [
    "# 1. Introducción\n",
    "Reconocimiento de palabra en tiempo real usando webcam y modelos preentrenados (estático + dinámico)\n",
    "\n",
    "# 2. Imports y carga de modelos"
   ]
  },
  {
   "cell_type": "code",
   "execution_count": 1,
   "id": "af72a736",
   "metadata": {},
   "outputs": [],
   "source": [
    "import cv2\n",
    "import numpy as np\n",
    "import joblib\n",
    "from pyprojroot import here\n",
    "from sklearn.preprocessing import StandardScaler\n",
    "from sklearn.decomposition import PCA\n",
    "from skimage.feature import hog\n",
    "\n",
    "# Cargar modelos estáticos y dinámicos\n",
    "clf_statics = joblib.load(here() / \"models\" / \"letters_clf.pkl\")\n",
    "scaler_statics = joblib.load(here() / \"models\" / \"scaler_letters.pkl\")\n",
    "pca_statics = joblib.load(here() / \"models\" / \"pca_letters.pkl\")\n",
    "\n",
    "clf_dynamics = joblib.load(here() / \"models\" / \"dynamics_rf.pkl\")\n",
    "scaler_dynamics = joblib.load(here() / \"models\" / \"scaler_gestos.pkl\")\n",
    "pca_dynamics = joblib.load(here() / \"models\" / \"pca_gestos.pkl\")"
   ]
  }
 ],
 "metadata": {
  "kernelspec": {
   "display_name": "signml",
   "language": "python",
   "name": "python3"
  },
  "language_info": {
   "codemirror_mode": {
    "name": "ipython",
    "version": 3
   },
   "file_extension": ".py",
   "mimetype": "text/x-python",
   "name": "python",
   "nbconvert_exporter": "python",
   "pygments_lexer": "ipython3",
   "version": "3.11.13"
  }
 },
 "nbformat": 4,
 "nbformat_minor": 5
}

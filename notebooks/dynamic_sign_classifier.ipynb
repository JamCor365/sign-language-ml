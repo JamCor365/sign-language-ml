{
 "cells": [
  {
   "cell_type": "markdown",
   "id": "810c40fb",
   "metadata": {},
   "source": [
    "# Clasificador de Letras Dinámicas de Lengua de Señas\n",
    "### (Clips 16×224×224  →  CNN 3D – I3D‑light/R3D‑18)\n",
    "*Autor: Tu Nombre – 2025-07-05*"
   ]
  },
  {
   "cell_type": "markdown",
   "id": "432d12a3",
   "metadata": {},
   "source": [
    "\n",
    "En este notebook crearemos un **clasificador para las letras dinámicas** (J, Ñ, Q, X, Z) usando clips de vídeo de 16 fotogramas 224 × 224 px.\n",
    "\n",
    "* Cargaremos los datos pre‑procesados (`dynamic_X.npy`, `dynamic_y.npy`) generados con `build_datasets.py`.\n",
    "* Usaremos **PyTorch** y el modelo `r3d_18` (similar en complejidad a *I3D‑light*) pre‑entrenado en Kinetics‑400.\n",
    "* Ajustaremos sólo las últimas capas (*fine‑tuning*) para reducir tiempo de entrenamiento.\n",
    "* Evaluaremos con precisión, *F1* por clase y matriz de confusión.\n"
   ]
  },
  {
   "cell_type": "code",
   "execution_count": 1,
   "id": "0fb50b3b",
   "metadata": {},
   "outputs": [
    {
     "name": "stdout",
     "output_type": "stream",
     "text": [
      "Usando dispositivo: cuda\n",
      "2.5.1+cu121\n",
      "12.1\n",
      "True\n",
      "NVIDIA GeForce RTX 4060 Laptop GPU\n"
     ]
    }
   ],
   "source": [
    "import numpy as np\n",
    "import torch, torch.nn as nn\n",
    "from torch.utils.data import TensorDataset, DataLoader\n",
    "from torchvision.models.video import r3d_18\n",
    "from torchvision import transforms\n",
    "import matplotlib.pyplot as plt\n",
    "from sklearn.metrics import classification_report, confusion_matrix, ConfusionMatrixDisplay\n",
    "from pathlib import Path\n",
    "%matplotlib inline\n",
    "\n",
    "device = torch.device('cuda' if torch.cuda.is_available() else 'cpu')\n",
    "print('Usando dispositivo:', device)\n",
    "print(torch.__version__)        # 2.x.y+cu121\n",
    "print(torch.version.cuda)       # 12.1\n",
    "print(torch.cuda.is_available())# True\n",
    "print(torch.cuda.get_device_name(0))"
   ]
  },
  {
   "cell_type": "code",
   "execution_count": 2,
   "id": "8f3b553b",
   "metadata": {},
   "outputs": [
    {
     "name": "stdout",
     "output_type": "stream",
     "text": [
      "Dataset: (620, 3, 16, 224, 224) (620,)\n"
     ]
    }
   ],
   "source": [
    "DATA_DIR = Path('../data')\n",
    "X = np.load(DATA_DIR / 'dynamic_X.npy').astype('float32') / 255.0  # normalizamos\n",
    "y = np.load(DATA_DIR / 'dynamic_y.npy')\n",
    "# Ajustamos a (N, C, T, H, W)\n",
    "X = X.transpose(0, 4, 1, 2, 3)  # de (N,T,H,W,C) a (N,C,T,H,W)\n",
    "print('Dataset:', X.shape, y.shape)"
   ]
  },
  {
   "cell_type": "code",
   "execution_count": 3,
   "id": "06114a3a",
   "metadata": {},
   "outputs": [
    {
     "name": "stdout",
     "output_type": "stream",
     "text": [
      "Train: (496, 3, 16, 224, 224) Val: (124, 3, 16, 224, 224)\n"
     ]
    }
   ],
   "source": [
    "from sklearn.model_selection import train_test_split\n",
    "X_train, X_val, y_train, y_val = train_test_split(\n",
    "    X, y, test_size=0.2, stratify=y, random_state=42)\n",
    "\n",
    "print('Train:', X_train.shape, 'Val:', X_val.shape)"
   ]
  },
  {
   "cell_type": "code",
   "execution_count": 4,
   "id": "4c30c2be",
   "metadata": {},
   "outputs": [],
   "source": [
    "class SignVideoDataset(torch.utils.data.Dataset):\n",
    "    def __init__(self, X, y):\n",
    "        self.X = torch.from_numpy(X)\n",
    "        self.y = torch.from_numpy(y).long()\n",
    "    def __len__(self):\n",
    "        return len(self.y)\n",
    "    def __getitem__(self, idx):\n",
    "        return self.X[idx], self.y[idx]\n",
    "\n",
    "train_ds = SignVideoDataset(X_train, y_train)\n",
    "val_ds   = SignVideoDataset(X_val, y_val)\n",
    "\n",
    "train_ld = DataLoader(train_ds, batch_size=2, shuffle=True,  num_workers=0, pin_memory=True)\n",
    "val_ld   = DataLoader(val_ds,   batch_size=2, shuffle=False, num_workers=0, pin_memory=True)"
   ]
  },
  {
   "cell_type": "code",
   "execution_count": 5,
   "id": "62ac9f3c",
   "metadata": {},
   "outputs": [
    {
     "name": "stderr",
     "output_type": "stream",
     "text": [
      "c:\\Users\\Jamin\\miniconda3\\envs\\signml\\Lib\\site-packages\\torchvision\\models\\_utils.py:208: UserWarning: The parameter 'pretrained' is deprecated since 0.13 and may be removed in the future, please use 'weights' instead.\n",
      "  warnings.warn(\n",
      "c:\\Users\\Jamin\\miniconda3\\envs\\signml\\Lib\\site-packages\\torchvision\\models\\_utils.py:223: UserWarning: Arguments other than a weight enum or `None` for 'weights' are deprecated since 0.13 and may be removed in the future. The current behavior is equivalent to passing `weights=R3D_18_Weights.KINETICS400_V1`. You can also use `weights=R3D_18_Weights.DEFAULT` to get the most up-to-date weights.\n",
      "  warnings.warn(msg)\n"
     ]
    }
   ],
   "source": [
    "num_classes = len(np.unique(y))\n",
    "model = r3d_18(pretrained=True)\n",
    "# Reemplazamos la última capa\n",
    "model.fc = nn.Linear(model.fc.in_features, num_classes)\n",
    "model = model.to(device)\n",
    "\n",
    "criterion = nn.CrossEntropyLoss()\n",
    "optimizer = torch.optim.AdamW(model.parameters(), lr=3e-4, weight_decay=1e-4)"
   ]
  },
  {
   "cell_type": "code",
   "execution_count": 6,
   "id": "ce85552b",
   "metadata": {},
   "outputs": [
    {
     "data": {
      "application/vnd.jupyter.widget-view+json": {
       "model_id": "4b0bc879e4d04acaa2bf73688b37e4c5",
       "version_major": 2,
       "version_minor": 0
      },
      "text/plain": [
       "Epoch 1/5:   0%|          | 0/248 [00:00<?, ?it/s]"
      ]
     },
     "metadata": {},
     "output_type": "display_data"
    },
    {
     "name": "stdout",
     "output_type": "stream",
     "text": [
      "Epoch 1: Train acc 0.619, Val acc 0.895\n"
     ]
    },
    {
     "data": {
      "application/vnd.jupyter.widget-view+json": {
       "model_id": "ff8f956355b446eeb6bcae2447d15f7a",
       "version_major": 2,
       "version_minor": 0
      },
      "text/plain": [
       "Epoch 2/5:   0%|          | 0/248 [00:00<?, ?it/s]"
      ]
     },
     "metadata": {},
     "output_type": "display_data"
    },
    {
     "name": "stdout",
     "output_type": "stream",
     "text": [
      "Epoch 2: Train acc 0.833, Val acc 0.976\n"
     ]
    },
    {
     "data": {
      "application/vnd.jupyter.widget-view+json": {
       "model_id": "b19cefb183884b11b8dd8049b69c8e53",
       "version_major": 2,
       "version_minor": 0
      },
      "text/plain": [
       "Epoch 3/5:   0%|          | 0/248 [00:00<?, ?it/s]"
      ]
     },
     "metadata": {},
     "output_type": "display_data"
    },
    {
     "name": "stdout",
     "output_type": "stream",
     "text": [
      "Epoch 3: Train acc 0.938, Val acc 0.992\n"
     ]
    },
    {
     "data": {
      "application/vnd.jupyter.widget-view+json": {
       "model_id": "cfb48dbef3fd41818788a447964aa188",
       "version_major": 2,
       "version_minor": 0
      },
      "text/plain": [
       "Epoch 4/5:   0%|          | 0/248 [00:00<?, ?it/s]"
      ]
     },
     "metadata": {},
     "output_type": "display_data"
    },
    {
     "name": "stdout",
     "output_type": "stream",
     "text": [
      "Epoch 4: Train acc 0.931, Val acc 0.960\n"
     ]
    },
    {
     "data": {
      "application/vnd.jupyter.widget-view+json": {
       "model_id": "402111b0247247ce97e183aa3755e472",
       "version_major": 2,
       "version_minor": 0
      },
      "text/plain": [
       "Epoch 5/5:   0%|          | 0/248 [00:00<?, ?it/s]"
      ]
     },
     "metadata": {},
     "output_type": "display_data"
    },
    {
     "name": "stdout",
     "output_type": "stream",
     "text": [
      "Epoch 5: Train acc 0.974, Val acc 0.976\n"
     ]
    }
   ],
   "source": [
    "from tqdm.auto import tqdm\n",
    "EPOCHS = 5\n",
    "history = {'train_loss': [], 'val_loss': [], 'train_acc':[], 'val_acc':[]}\n",
    "\n",
    "for epoch in range(1, EPOCHS+1):\n",
    "    model.train()\n",
    "    tloss, tcorrect = 0., 0\n",
    "    for xb, yb in tqdm(train_ld, desc=f'Epoch {epoch}/{EPOCHS}', leave=False):\n",
    "        xb, yb = xb.to(device), yb.to(device)\n",
    "        optimizer.zero_grad()\n",
    "        out = model(xb)\n",
    "        loss = criterion(out, yb)\n",
    "        loss.backward()\n",
    "        optimizer.step()\n",
    "        tloss += loss.item()*len(yb)\n",
    "        tcorrect += (out.argmax(1)==yb).sum().item()\n",
    "    tloss /= len(train_ds)\n",
    "    tacc  = tcorrect / len(train_ds)\n",
    "\n",
    "    # validación\n",
    "    model.eval()\n",
    "    vloss, vcorrect = 0., 0\n",
    "    with torch.no_grad():\n",
    "        for xb, yb in val_ld:\n",
    "            xb, yb = xb.to(device), yb.to(device)\n",
    "            out = model(xb)\n",
    "            vloss += criterion(out, yb).item()*len(yb)\n",
    "            vcorrect += (out.argmax(1)==yb).sum().item()\n",
    "    vloss /= len(val_ds)\n",
    "    vacc  = vcorrect / len(val_ds)\n",
    "\n",
    "    history['train_loss'].append(tloss)\n",
    "    history['val_loss'].append(vloss)\n",
    "    history['train_acc'].append(tacc)\n",
    "    history['val_acc'].append(vacc)\n",
    "\n",
    "    print(f'Epoch {epoch}: Train acc {tacc:.3f}, Val acc {vacc:.3f}')"
   ]
  },
  {
   "cell_type": "code",
   "execution_count": 7,
   "id": "32a881c0",
   "metadata": {},
   "outputs": [
    {
     "data": {
      "image/png": "[encoded data removed]",
      "text/plain": [
       "<Figure size 1000x400 with 2 Axes>"
      ]
     },
     "metadata": {},
     "output_type": "display_data"
    }
   ],
   "source": [
    "plt.figure(figsize=(10,4))\n",
    "plt.subplot(1,2,1)\n",
    "plt.plot(history['train_loss'], label='Train')\n",
    "plt.plot(history['val_loss'], label='Val')\n",
    "plt.title('Pérdida')\n",
    "plt.legend()\n",
    "plt.subplot(1,2,2)\n",
    "plt.plot(history['train_acc'], label='Train')\n",
    "plt.plot(history['val_acc'], label='Val')\n",
    "plt.title('Exactitud')\n",
    "plt.legend()\n",
    "plt.show()"
   ]
  },
  {
   "cell_type": "code",
   "execution_count": 8,
   "id": "df1aa7dd",
   "metadata": {},
   "outputs": [
    {
     "name": "stdout",
     "output_type": "stream",
     "text": [
      "              precision    recall  f1-score   support\n",
      "\n",
      "           0       1.00      0.85      0.92        20\n",
      "           1       1.00      1.00      1.00        20\n",
      "           2       0.95      1.00      0.98        21\n",
      "           3       0.91      1.00      0.95        21\n",
      "           4       1.00      1.00      1.00        21\n",
      "           5       1.00      1.00      1.00        21\n",
      "\n",
      "    accuracy                           0.98       124\n",
      "   macro avg       0.98      0.97      0.98       124\n",
      "weighted avg       0.98      0.98      0.98       124\n",
      "\n"
     ]
    }
   ],
   "source": [
    "model.eval()\n",
    "y_pred, y_true = [], []\n",
    "with torch.no_grad():\n",
    "    for xb, yb in val_ld:\n",
    "        xb = xb.to(device)\n",
    "        out = model(xb).cpu()\n",
    "        y_pred.append(out.argmax(1))\n",
    "        y_true.append(yb)\n",
    "y_pred = torch.cat(y_pred).numpy()\n",
    "y_true = torch.cat(y_true).numpy()\n",
    "\n",
    "print(classification_report(y_true, y_pred))"
   ]
  },
  {
   "cell_type": "code",
   "execution_count": 9,
   "id": "9f3247f2",
   "metadata": {},
   "outputs": [
    {
     "data": {
      "image/png": "[encoded data removed]",
      "text/plain": [
       "<Figure size 500x500 with 2 Axes>"
      ]
     },
     "metadata": {},
     "output_type": "display_data"
    }
   ],
   "source": [
    "cm = confusion_matrix(y_true, y_pred)\n",
    "disp = ConfusionMatrixDisplay(cm)\n",
    "fig, ax = plt.subplots(figsize=(5,5))\n",
    "disp.plot(ax=ax, cmap='Blues')\n",
    "plt.title('Matriz de confusión')\n",
    "plt.show()"
   ]
  },
  {
   "cell_type": "code",
   "execution_count": 12,
   "id": "4adafa61",
   "metadata": {},
   "outputs": [
    {
     "name": "stdout",
     "output_type": "stream",
     "text": [
      "Modelo guardado en ..\\models\\r3d18_dynamic.pth\n"
     ]
    }
   ],
   "source": [
    "MODEL_DIR = Path('../models')\n",
    "MODEL_DIR.mkdir(exist_ok=True)\n",
    "torch.save(model.state_dict(), MODEL_DIR / 'r3d18_dynamic.pth')\n",
    "print('Modelo guardado en', MODEL_DIR / 'r3d18_dynamic.pth')"
   ]
  },
  {
   "cell_type": "markdown",
   "id": "58a32419",
   "metadata": {},
   "source": [
    "\n",
    "## Conclusiones\n",
    "\n",
    "* Con sólo 5 épocas de *fine‑tuning* alcanzamos una exactitud de validación que ronda **~85‑90 %** (dependerá de tu conjunto real).  \n",
    "* Puede mejorarse aumentando el número de épocas, usando *data augmentation temporal* o sustituyendo `r3d_18` por una implementación propia de **I3D‑light**.  \n",
    "* El modelo y las curvas se guardan para referencia posterior.\n",
    "\n",
    "> Ya puedes integrar este clasificador en tu sistema *split‑and‑merge* junto con el SVM de letras estáticas.\n"
   ]
  }
 ],
 "metadata": {
  "kernelspec": {
   "display_name": "signml",
   "language": "python",
   "name": "python3"
  },
  "language_info": {
   "codemirror_mode": {
    "name": "ipython",
    "version": 3
   },
   "file_extension": ".py",
   "mimetype": "text/x-python",
   "name": "python",
   "nbconvert_exporter": "python",
   "pygments_lexer": "ipython3",
   "version": "3.11.13"
  }
 },
 "nbformat": 4,
 "nbformat_minor": 5
}

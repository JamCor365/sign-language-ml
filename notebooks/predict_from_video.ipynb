{
 "cells": [
  {
   "cell_type": "markdown",
   "id": "57cbf799",
   "metadata": {},
   "source": [
    "# 1. Introducción\n",
    "\n",
    "Este notebook permite realizar la reconstrucción automática de palabras a partir de un video en el que una persona deletrea usando el Lenguaje de Señas Mexicano (LSM).\n",
    "Se aplican los modelos entrenados previamente para reconocer letras estáticas y dinámicas.\n",
    "\n",
    "# 2. Carga de modelos entrenados"
   ]
  },
  {
   "cell_type": "code",
   "execution_count": 1,
   "id": "841ac9c4",
   "metadata": {},
   "outputs": [],
   "source": [
    "import joblib\n",
    "\n",
    "from pyprojroot import here\n",
    "\n",
    "clf_static = joblib.load(here() / \"models\" / \"letters_clf.pkl\")\n",
    "scaler_static = joblib.load(here() / \"models\" / \"scaler_letters.pkl\")\n",
    "pca_static = joblib.load(here() / \"models\" / \"pca_letters.pkl\")\n",
    "\n",
    "clf_dynamic = joblib.load(here() / \"models\" / \"dynamics_rf.pkl\")\n",
    "scaler_dynamic = joblib.load(here() / \"models\" / \"scaler_gestos.pkl\")\n",
    "pca_dynamic = joblib.load(here() / \"models\" / \"pca_gestos.pkl\")"
   ]
  }
 ],
 "metadata": {
  "kernelspec": {
   "display_name": "signml",
   "language": "python",
   "name": "python3"
  },
  "language_info": {
   "codemirror_mode": {
    "name": "ipython",
    "version": 3
   },
   "file_extension": ".py",
   "mimetype": "text/x-python",
   "name": "python",
   "nbconvert_exporter": "python",
   "pygments_lexer": "ipython3",
   "version": "3.11.13"
  }
 },
 "nbformat": 4,
 "nbformat_minor": 5
}

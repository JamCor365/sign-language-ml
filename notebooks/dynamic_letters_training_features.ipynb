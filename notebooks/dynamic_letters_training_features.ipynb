{
 "cells": [
  {
   "cell_type": "markdown",
   "id": "f9d8b852",
   "metadata": {},
   "source": [
    "# Entrenamiento de Letras Dinámicas con Features Pre-extraídos\n",
    "*Generado: 2025-06-30 20:21*\n",
    "\n",
    "Este cuaderno carga secuencias de **landmarks ya guardadas** en archivos `.npy` (`features/dynamics/<letra>/<clip>.npy`) y entrena un **Bi-LSTM** para clasificar las letras dinámicas (J, Z, CH, etc.) del alfabeto LSM."
   ]
  },
  {
   "cell_type": "markdown",
   "id": "76545c4f",
   "metadata": {},
   "source": [
    "## 1  Dependencias"
   ]
  },
  {
   "cell_type": "code",
   "execution_count": null,
   "id": "ee62b0d6",
   "metadata": {},
   "outputs": [],
   "source": [
    "!pip install tensorflow scikit-learn pandas numpy matplotlib seaborn tqdm -q"
   ]
  },
  {
   "cell_type": "markdown",
   "id": "af015f80",
   "metadata": {},
   "source": [
    "## 2  Imports y rutas"
   ]
  },
  {
   "cell_type": "code",
   "execution_count": 16,
   "id": "f9cd5546",
   "metadata": {},
   "outputs": [
    {
     "name": "stdout",
     "output_type": "stream",
     "text": [
      "CSV: C:\\Users\\Jamin\\Documents\\Proyectos\\sign-language-ml\\data\\dynamics_sequences.csv\n"
     ]
    }
   ],
   "source": [
    "import numpy as np, pandas as pd, matplotlib.pyplot as plt, seaborn as sns, pathlib, pickle, joblib\n",
    "from pathlib import Path\n",
    "from sklearn.model_selection import train_test_split\n",
    "from sklearn.preprocessing import LabelEncoder\n",
    "from sklearn.metrics import classification_report, confusion_matrix, ConfusionMatrixDisplay\n",
    "from sklearn.utils.class_weight import compute_class_weight\n",
    "import tensorflow as tf\n",
    "\n",
    "ROOT = Path('..').resolve()\n",
    "CSV_PATH = ROOT / 'data' / 'dynamics_sequences.csv'\n",
    "MODEL_DIR = ROOT / 'models'\n",
    "MODEL_DIR.mkdir(parents=True, exist_ok=True)\n",
    "print('CSV:', CSV_PATH)"
   ]
  },
  {
   "cell_type": "markdown",
   "id": "27b2bc62",
   "metadata": {},
   "source": [
    "## 3  Carga y exploración del CSV"
   ]
  },
  {
   "cell_type": "code",
   "execution_count": 17,
   "id": "e6be8676",
   "metadata": {},
   "outputs": [
    {
     "name": "stdout",
     "output_type": "stream",
     "text": [
      "                                 feature_path label\n",
      "0  data/dynamics/features/J/S1-J-perfil-1.npy     J\n",
      "1  data/dynamics/features/J/S1-J-perfil-2.npy     J\n",
      "2  data/dynamics/features/J/S1-J-perfil-3.npy     J\n",
      "3  data/dynamics/features/J/S1-J-perfil-4.npy     J\n",
      "4  data/dynamics/features/J/S1-J-perfil-5.npy     J\n"
     ]
    },
    {
     "data": {
      "image/png": "[encoded data removed]",
      "text/plain": [
       "<Figure size 700x300 with 1 Axes>"
      ]
     },
     "metadata": {},
     "output_type": "display_data"
    }
   ],
   "source": [
    "df = pd.read_csv(CSV_PATH)\n",
    "print(df.head())\n",
    "plt.figure(figsize=(7,3))\n",
    "sns.countplot(x='label', data=df, order=sorted(df['label'].unique()))\n",
    "plt.title('Clips por letra dinámica')\n",
    "plt.show()"
   ]
  },
  {
   "cell_type": "markdown",
   "id": "58933a30",
   "metadata": {},
   "source": [
    "## 4  Carga de features `.npy`"
   ]
  },
  {
   "cell_type": "code",
   "execution_count": 18,
   "id": "a0652b0e",
   "metadata": {},
   "outputs": [
    {
     "name": "stdout",
     "output_type": "stream",
     "text": [
      "X shape (620, 30, 63)\n"
     ]
    }
   ],
   "source": [
    "X_list, y_list = [], []\n",
    "for fp, lab in zip(df['feature_path'], df['label']):\n",
    "    arr = np.load(ROOT / fp)\n",
    "    X_list.append(arr)\n",
    "    y_list.append(lab)\n",
    "\n",
    "X = np.stack(X_list)    # (N, T, 63)\n",
    "y = np.array(y_list)\n",
    "SEQ_LEN = X.shape[1]\n",
    "print('X shape', X.shape)"
   ]
  },
  {
   "cell_type": "markdown",
   "id": "22953a0b",
   "metadata": {},
   "source": [
    "## 5  Codificación de etiquetas"
   ]
  },
  {
   "cell_type": "code",
   "execution_count": 20,
   "id": "bcb6a8d1",
   "metadata": {},
   "outputs": [
    {
     "name": "stdout",
     "output_type": "stream",
     "text": [
      "Clases: ['J', 'K', 'N_ni', 'Q', 'X', 'Z']\n"
     ]
    }
   ],
   "source": [
    "le = LabelEncoder()\n",
    "y_int = le.fit_transform(y)\n",
    "num_classes = len(le.classes_)\n",
    "print('Clases:', list(le.classes_))"
   ]
  },
  {
   "cell_type": "markdown",
   "id": "fd005d15",
   "metadata": {},
   "source": [
    "## 6  División Train/Test"
   ]
  },
  {
   "cell_type": "code",
   "execution_count": 22,
   "id": "33224e84",
   "metadata": {},
   "outputs": [
    {
     "name": "stdout",
     "output_type": "stream",
     "text": [
      "(496, 30, 63) (124, 30, 63)\n"
     ]
    }
   ],
   "source": [
    "X_train, X_test, y_train, y_test = train_test_split(\n",
    "    X, y_int, test_size=0.2, stratify=y_int, random_state=42)\n",
    "print(X_train.shape, X_test.shape)"
   ]
  },
  {
   "cell_type": "markdown",
   "id": "5581a997",
   "metadata": {},
   "source": [
    "## 7  Normalizar y guardar estadísticas"
   ]
  },
  {
   "cell_type": "code",
   "execution_count": 23,
   "id": "9ccf39d7",
   "metadata": {},
   "outputs": [],
   "source": [
    "X_mean = X_train.mean(axis=(0,1))\n",
    "X_std = X_train.std(axis=(0,1)) + 1e-8\n",
    "X_train = (X_train - X_mean) / X_std\n",
    "X_test  = (X_test - X_mean) / X_std\n",
    "np.save(MODEL_DIR / \"X_mean.npy\", X_mean)\n",
    "np.save(MODEL_DIR / \"X_std.npy\", X_std)"
   ]
  },
  {
   "cell_type": "markdown",
   "id": "64648907",
   "metadata": {},
   "source": [
    "## 8  Pesos por clase"
   ]
  },
  {
   "cell_type": "code",
   "execution_count": 24,
   "id": "084ef30b",
   "metadata": {},
   "outputs": [],
   "source": [
    "class_weights = compute_class_weight(class_weight='balanced', classes=np.unique(y_train), y=y_train)\n",
    "class_weights = {i: w for i, w in enumerate(class_weights)}"
   ]
  },
  {
   "cell_type": "markdown",
   "id": "01bd84b1",
   "metadata": {},
   "source": [
    "## 7  Modelo Bi-LSTM"
   ]
  },
  {
   "cell_type": "code",
   "execution_count": 25,
   "id": "1fed1480",
   "metadata": {},
   "outputs": [
    {
     "data": {
      "text/html": [
       "<pre style=\"white-space:pre;overflow-x:auto;line-height:normal;font-family:Menlo,'DejaVu Sans Mono',consolas,'Courier New',monospace\"><span style=\"font-weight: bold\">Model: \"sequential\"</span>\n",
       "</pre>\n"
      ],
      "text/plain": [
       "\u001b[1mModel: \"sequential\"\u001b[0m\n"
      ]
     },
     "metadata": {},
     "output_type": "display_data"
    },
    {
     "data": {
      "text/html": [
       "<pre style=\"white-space:pre;overflow-x:auto;line-height:normal;font-family:Menlo,'DejaVu Sans Mono',consolas,'Courier New',monospace\">┏━━━━━━━━━━━━━━━━━━━━━━━━━━━━━━━━━┳━━━━━━━━━━━━━━━━━━━━━━━━┳━━━━━━━━━━━━━━━┓\n",
       "┃<span style=\"font-weight: bold\"> Layer (type)                    </span>┃<span style=\"font-weight: bold\"> Output Shape           </span>┃<span style=\"font-weight: bold\">       Param # </span>┃\n",
       "┡━━━━━━━━━━━━━━━━━━━━━━━━━━━━━━━━━╇━━━━━━━━━━━━━━━━━━━━━━━━╇━━━━━━━━━━━━━━━┩\n",
       "│ bidirectional (<span style=\"color: #0087ff; text-decoration-color: #0087ff\">Bidirectional</span>)   │ (<span style=\"color: #00d7ff; text-decoration-color: #00d7ff\">None</span>, <span style=\"color: #00af00; text-decoration-color: #00af00\">30</span>, <span style=\"color: #00af00; text-decoration-color: #00af00\">128</span>)        │        <span style=\"color: #00af00; text-decoration-color: #00af00\">65,536</span> │\n",
       "├─────────────────────────────────┼────────────────────────┼───────────────┤\n",
       "│ dropout (<span style=\"color: #0087ff; text-decoration-color: #0087ff\">Dropout</span>)               │ (<span style=\"color: #00d7ff; text-decoration-color: #00d7ff\">None</span>, <span style=\"color: #00af00; text-decoration-color: #00af00\">30</span>, <span style=\"color: #00af00; text-decoration-color: #00af00\">128</span>)        │             <span style=\"color: #00af00; text-decoration-color: #00af00\">0</span> │\n",
       "├─────────────────────────────────┼────────────────────────┼───────────────┤\n",
       "│ bidirectional_1 (<span style=\"color: #0087ff; text-decoration-color: #0087ff\">Bidirectional</span>) │ (<span style=\"color: #00d7ff; text-decoration-color: #00d7ff\">None</span>, <span style=\"color: #00af00; text-decoration-color: #00af00\">64</span>)             │        <span style=\"color: #00af00; text-decoration-color: #00af00\">41,216</span> │\n",
       "├─────────────────────────────────┼────────────────────────┼───────────────┤\n",
       "│ dense (<span style=\"color: #0087ff; text-decoration-color: #0087ff\">Dense</span>)                   │ (<span style=\"color: #00d7ff; text-decoration-color: #00d7ff\">None</span>, <span style=\"color: #00af00; text-decoration-color: #00af00\">6</span>)              │           <span style=\"color: #00af00; text-decoration-color: #00af00\">390</span> │\n",
       "└─────────────────────────────────┴────────────────────────┴───────────────┘\n",
       "</pre>\n"
      ],
      "text/plain": [
       "┏━━━━━━━━━━━━━━━━━━━━━━━━━━━━━━━━━┳━━━━━━━━━━━━━━━━━━━━━━━━┳━━━━━━━━━━━━━━━┓\n",
       "┃\u001b[1m \u001b[0m\u001b[1mLayer (type)                   \u001b[0m\u001b[1m \u001b[0m┃\u001b[1m \u001b[0m\u001b[1mOutput Shape          \u001b[0m\u001b[1m \u001b[0m┃\u001b[1m \u001b[0m\u001b[1m      Param #\u001b[0m\u001b[1m \u001b[0m┃\n",
       "┡━━━━━━━━━━━━━━━━━━━━━━━━━━━━━━━━━╇━━━━━━━━━━━━━━━━━━━━━━━━╇━━━━━━━━━━━━━━━┩\n",
       "│ bidirectional (\u001b[38;5;33mBidirectional\u001b[0m)   │ (\u001b[38;5;45mNone\u001b[0m, \u001b[38;5;34m30\u001b[0m, \u001b[38;5;34m128\u001b[0m)        │        \u001b[38;5;34m65,536\u001b[0m │\n",
       "├─────────────────────────────────┼────────────────────────┼───────────────┤\n",
       "│ dropout (\u001b[38;5;33mDropout\u001b[0m)               │ (\u001b[38;5;45mNone\u001b[0m, \u001b[38;5;34m30\u001b[0m, \u001b[38;5;34m128\u001b[0m)        │             \u001b[38;5;34m0\u001b[0m │\n",
       "├─────────────────────────────────┼────────────────────────┼───────────────┤\n",
       "│ bidirectional_1 (\u001b[38;5;33mBidirectional\u001b[0m) │ (\u001b[38;5;45mNone\u001b[0m, \u001b[38;5;34m64\u001b[0m)             │        \u001b[38;5;34m41,216\u001b[0m │\n",
       "├─────────────────────────────────┼────────────────────────┼───────────────┤\n",
       "│ dense (\u001b[38;5;33mDense\u001b[0m)                   │ (\u001b[38;5;45mNone\u001b[0m, \u001b[38;5;34m6\u001b[0m)              │           \u001b[38;5;34m390\u001b[0m │\n",
       "└─────────────────────────────────┴────────────────────────┴───────────────┘\n"
      ]
     },
     "metadata": {},
     "output_type": "display_data"
    },
    {
     "data": {
      "text/html": [
       "<pre style=\"white-space:pre;overflow-x:auto;line-height:normal;font-family:Menlo,'DejaVu Sans Mono',consolas,'Courier New',monospace\"><span style=\"font-weight: bold\"> Total params: </span><span style=\"color: #00af00; text-decoration-color: #00af00\">107,142</span> (418.52 KB)\n",
       "</pre>\n"
      ],
      "text/plain": [
       "\u001b[1m Total params: \u001b[0m\u001b[38;5;34m107,142\u001b[0m (418.52 KB)\n"
      ]
     },
     "metadata": {},
     "output_type": "display_data"
    },
    {
     "data": {
      "text/html": [
       "<pre style=\"white-space:pre;overflow-x:auto;line-height:normal;font-family:Menlo,'DejaVu Sans Mono',consolas,'Courier New',monospace\"><span style=\"font-weight: bold\"> Trainable params: </span><span style=\"color: #00af00; text-decoration-color: #00af00\">107,142</span> (418.52 KB)\n",
       "</pre>\n"
      ],
      "text/plain": [
       "\u001b[1m Trainable params: \u001b[0m\u001b[38;5;34m107,142\u001b[0m (418.52 KB)\n"
      ]
     },
     "metadata": {},
     "output_type": "display_data"
    },
    {
     "data": {
      "text/html": [
       "<pre style=\"white-space:pre;overflow-x:auto;line-height:normal;font-family:Menlo,'DejaVu Sans Mono',consolas,'Courier New',monospace\"><span style=\"font-weight: bold\"> Non-trainable params: </span><span style=\"color: #00af00; text-decoration-color: #00af00\">0</span> (0.00 B)\n",
       "</pre>\n"
      ],
      "text/plain": [
       "\u001b[1m Non-trainable params: \u001b[0m\u001b[38;5;34m0\u001b[0m (0.00 B)\n"
      ]
     },
     "metadata": {},
     "output_type": "display_data"
    }
   ],
   "source": [
    "tf.keras.backend.clear_session()\n",
    "model = tf.keras.Sequential([\n",
    "    tf.keras.layers.Input(shape=(SEQ_LEN, 63)),\n",
    "    tf.keras.layers.Bidirectional(tf.keras.layers.LSTM(64, return_sequences=True)),\n",
    "    tf.keras.layers.Dropout(0.3),\n",
    "    tf.keras.layers.Bidirectional(tf.keras.layers.LSTM(32)),\n",
    "    tf.keras.layers.Dense(num_classes, activation='softmax')\n",
    "])\n",
    "model.compile(optimizer='adam', loss='sparse_categorical_crossentropy', metrics=['accuracy'])\n",
    "model.summary()"
   ]
  },
  {
   "cell_type": "markdown",
   "id": "d7902f9e",
   "metadata": {},
   "source": [
    "### 7.1  Entrenamiento"
   ]
  },
  {
   "cell_type": "code",
   "execution_count": 26,
   "id": "54b70891",
   "metadata": {},
   "outputs": [
    {
     "name": "stdout",
     "output_type": "stream",
     "text": [
      "Epoch 1/50\n",
      "13/13 - 4s - 319ms/step - accuracy: 0.6263 - loss: 1.3122 - val_accuracy: 0.7200 - val_loss: 0.8514\n",
      "Epoch 2/50\n",
      "13/13 - 0s - 18ms/step - accuracy: 0.8106 - loss: 0.6951 - val_accuracy: 0.7700 - val_loss: 0.5436\n",
      "Epoch 3/50\n",
      "13/13 - 0s - 17ms/step - accuracy: 0.8889 - loss: 0.4462 - val_accuracy: 0.8500 - val_loss: 0.4127\n",
      "Epoch 4/50\n",
      "13/13 - 0s - 17ms/step - accuracy: 0.9343 - loss: 0.2846 - val_accuracy: 0.8600 - val_loss: 0.3141\n",
      "Epoch 5/50\n",
      "13/13 - 0s - 17ms/step - accuracy: 0.9343 - loss: 0.2064 - val_accuracy: 0.8800 - val_loss: 0.2552\n",
      "Epoch 6/50\n",
      "13/13 - 0s - 18ms/step - accuracy: 0.9596 - loss: 0.1457 - val_accuracy: 0.8900 - val_loss: 0.2410\n",
      "Epoch 7/50\n",
      "13/13 - 0s - 17ms/step - accuracy: 0.9646 - loss: 0.1204 - val_accuracy: 0.9100 - val_loss: 0.2229\n",
      "Epoch 8/50\n",
      "13/13 - 0s - 17ms/step - accuracy: 0.9621 - loss: 0.1081 - val_accuracy: 0.8700 - val_loss: 0.2417\n",
      "Epoch 9/50\n",
      "13/13 - 0s - 17ms/step - accuracy: 0.9722 - loss: 0.0875 - val_accuracy: 0.8900 - val_loss: 0.2701\n",
      "Epoch 10/50\n",
      "13/13 - 0s - 17ms/step - accuracy: 0.9470 - loss: 0.1280 - val_accuracy: 0.9000 - val_loss: 0.2603\n",
      "Epoch 11/50\n",
      "13/13 - 0s - 18ms/step - accuracy: 0.9672 - loss: 0.1069 - val_accuracy: 0.9000 - val_loss: 0.2118\n",
      "Epoch 12/50\n",
      "13/13 - 0s - 19ms/step - accuracy: 0.9798 - loss: 0.0736 - val_accuracy: 0.9300 - val_loss: 0.1868\n",
      "Epoch 13/50\n",
      "13/13 - 0s - 17ms/step - accuracy: 0.9874 - loss: 0.0542 - val_accuracy: 0.9200 - val_loss: 0.1771\n",
      "Epoch 14/50\n",
      "13/13 - 0s - 17ms/step - accuracy: 0.9823 - loss: 0.0543 - val_accuracy: 0.9200 - val_loss: 0.2036\n",
      "Epoch 15/50\n",
      "13/13 - 0s - 17ms/step - accuracy: 0.9874 - loss: 0.0394 - val_accuracy: 0.9100 - val_loss: 0.2302\n",
      "Epoch 16/50\n",
      "13/13 - 0s - 17ms/step - accuracy: 0.9874 - loss: 0.0368 - val_accuracy: 0.9200 - val_loss: 0.2240\n",
      "Epoch 17/50\n",
      "13/13 - 0s - 18ms/step - accuracy: 0.9924 - loss: 0.0289 - val_accuracy: 0.9200 - val_loss: 0.2192\n",
      "Epoch 18/50\n",
      "13/13 - 0s - 17ms/step - accuracy: 0.9924 - loss: 0.0226 - val_accuracy: 0.9100 - val_loss: 0.2581\n"
     ]
    }
   ],
   "source": [
    "callbacks = [tf.keras.callbacks.EarlyStopping(patience=5, restore_best_weights=True)]\n",
    "history = model.fit(X_train, y_train, epochs=50, batch_size=32,\n",
    "                    validation_split=0.2, callbacks=callbacks,\n",
    "                    class_weight=class_weights, verbose=2)"
   ]
  },
  {
   "cell_type": "code",
   "execution_count": 27,
   "id": "29fd4d96",
   "metadata": {},
   "outputs": [
    {
     "data": {
      "image/png": "[encoded data removed]",
      "text/plain": [
       "<Figure size 600x400 with 1 Axes>"
      ]
     },
     "metadata": {},
     "output_type": "display_data"
    }
   ],
   "source": [
    "pd.DataFrame(history.history).to_csv(MODEL_DIR / \"training_log.csv\", index=False)\n",
    "plt.figure(figsize=(6,4))\n",
    "plt.plot(history.history['accuracy'], label='train')\n",
    "plt.plot(history.history['val_accuracy'], label='val')\n",
    "plt.legend(); plt.xlabel('Epoch'); plt.ylabel('Accuracy')\n",
    "plt.title('Historia de entrenamiento')\n",
    "plt.savefig(MODEL_DIR / \"training_plot.png\")\n",
    "plt.show()"
   ]
  },
  {
   "cell_type": "markdown",
   "id": "b0108553",
   "metadata": {},
   "source": [
    "### 7.2  Evaluación en test"
   ]
  },
  {
   "cell_type": "code",
   "execution_count": 28,
   "id": "6c968de0",
   "metadata": {},
   "outputs": [
    {
     "name": "stdout",
     "output_type": "stream",
     "text": [
      "Test accuracy: 0.935\n",
      "              precision    recall  f1-score   support\n",
      "\n",
      "           J       1.00      1.00      1.00        20\n",
      "           K       0.95      0.90      0.92        20\n",
      "        N_ni       0.95      1.00      0.98        21\n",
      "           Q       1.00      0.76      0.86        21\n",
      "           X       0.80      0.95      0.87        21\n",
      "           Z       0.95      1.00      0.98        21\n",
      "\n",
      "    accuracy                           0.94       124\n",
      "   macro avg       0.94      0.94      0.94       124\n",
      "weighted avg       0.94      0.94      0.93       124\n",
      "\n"
     ]
    },
    {
     "data": {
      "image/png": "[encoded data removed]",
      "text/plain": [
       "<Figure size 600x600 with 2 Axes>"
      ]
     },
     "metadata": {},
     "output_type": "display_data"
    }
   ],
   "source": [
    "# ─── Evaluación ──────────────────────\n",
    "test_loss, test_acc = model.evaluate(X_test, y_test, verbose=0)\n",
    "print(f'Test accuracy: {test_acc:.3f}')\n",
    "y_pred = np.argmax(model.predict(X_test, verbose=0), axis=1)\n",
    "print(classification_report(y_test, y_pred, target_names=le.classes_))\n",
    "\n",
    "# ─── Matriz de confusión ─────────────\n",
    "cm = confusion_matrix(y_test, y_pred)\n",
    "disp = ConfusionMatrixDisplay(cm, display_labels=le.classes_)\n",
    "fig, ax = plt.subplots(figsize=(6,6))\n",
    "disp.plot(ax=ax, cmap='Blues', xticks_rotation='vertical')\n",
    "plt.savefig(MODEL_DIR / \"confusion_matrix.png\")\n",
    "plt.show()"
   ]
  },
  {
   "cell_type": "markdown",
   "id": "f8f91fa1",
   "metadata": {},
   "source": [
    "## 8  Guardar modelo y codificador"
   ]
  },
  {
   "cell_type": "code",
   "execution_count": 29,
   "id": "4340473d",
   "metadata": {},
   "outputs": [
    {
     "name": "stderr",
     "output_type": "stream",
     "text": [
      "WARNING:absl:You are saving your model as an HDF5 file via `model.save()` or `keras.saving.save_model(model)`. This file format is considered legacy. We recommend using instead the native Keras format, e.g. `model.save('my_model.keras')` or `keras.saving.save_model(model, 'my_model.keras')`. \n"
     ]
    },
    {
     "name": "stdout",
     "output_type": "stream",
     "text": [
      "✅ Todo guardado en C:\\Users\\Jamin\\Documents\\Proyectos\\sign-language-ml\\models\n"
     ]
    }
   ],
   "source": [
    "model.save(MODEL_DIR / 'dynamic_letters_lstm.h5')\n",
    "with open(MODEL_DIR / 'dynamic_letters_label_encoder.pkl', 'wb') as f:\n",
    "    pickle.dump(le, f)\n",
    "with open(MODEL_DIR / 'dynamic_letters_label_map.txt', 'w') as f:\n",
    "    for i, label in enumerate(le.classes_):\n",
    "        f.write(f'{i}: {label}\\n')\n",
    "\n",
    "print('✅ Todo guardado en', MODEL_DIR)"
   ]
  },
  {
   "cell_type": "markdown",
   "id": "db63ad14",
   "metadata": {},
   "source": [
    "## 9  Próximos pasos\n",
    "* Experimentar con GRU o Transformer Encoder si tienes más datos.\n",
    "* Fusionar estas predicciones con las del modelo estático (late fusion).\n",
    "* Exportar a TensorFlow Lite para despliegue en móviles o Raspberry Pi."
   ]
  }
 ],
 "metadata": {
  "kernelspec": {
   "display_name": "signml",
   "language": "python",
   "name": "python3"
  },
  "language_info": {
   "codemirror_mode": {
    "name": "ipython",
    "version": 3
   },
   "file_extension": ".py",
   "mimetype": "text/x-python",
   "name": "python",
   "nbconvert_exporter": "python",
   "pygments_lexer": "ipython3",
   "version": "3.11.13"
  }
 },
 "nbformat": 4,
 "nbformat_minor": 5
}
